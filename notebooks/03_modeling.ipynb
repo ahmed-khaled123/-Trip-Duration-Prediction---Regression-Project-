{
 "cells": [
  {
   "cell_type": "markdown",
   "id": "1517e600",
   "metadata": {},
   "source": [
    "# 🧠 Machine Learning Models - Evaluation Notebook\n",
    "after exploring the data and preparing it for modeling,  \n",
    "we will use our **pre-prepared functions** from `modeling_utils` such as:\n",
    "- `data_split`\n",
    "- `scaling`\n",
    "- `train_eval_test`\n",
    "\n",
    "These utilities were carefully designed to work in a **structured, clean, and generalizable way** across different modeling scenarios.  \n",
    "## 1. Introduction\n",
    "This notebook is designed to train and evaluate all models implemented in the project (Linear Regression, Ridge, KNN, XGBoost).  \n",
    "Steps:  \n",
    "1. Load the dataset  \n",
    "2. Split into Train/Validation/Test  \n",
    "3. Train each model  \n",
    "4. Compare performance metrics  \n",
    "   2,3,4 use `run_model_pipeline` \n",
    "5. Test the model with `test_model` \n"
   ]
  },
  {
   "cell_type": "markdown",
   "id": "d9e8ee35",
   "metadata": {},
   "source": [
    "------------------------------------------------------------------------"
   ]
  },
  {
   "cell_type": "markdown",
   "id": "3873cff5",
   "metadata": {},
   "source": [
    "## import all libraries and file functions that we need"
   ]
  },
  {
   "cell_type": "code",
   "execution_count": 14,
   "id": "56306b34",
   "metadata": {},
   "outputs": [],
   "source": [
    "import sys\n",
    "import os\n",
    "import pandas as pd\n",
    "from sklearn.linear_model import Ridge\n",
    "from sklearn.neighbors import KNeighborsRegressor\n",
    "from xgboost import XGBRegressor\n",
    "from sklearn.linear_model import LinearRegression\n",
    "import matplotlib.pyplot as plt\n",
    "# Allow Python to access the src folder\n",
    "base_dir = os.path.abspath(os.path.join(os.getcwd(), \"..\"))\n",
    "sys.path.append(os.path.join(base_dir, \"src\"))\n",
    "\n",
    "from sklearn.metrics import mean_absolute_error, mean_squared_error, r2_score\n",
    "from modeling_Utils.data_split import split_features_target\n",
    "from modeling_Utils.scaling import scale_data\n",
    "from modeling_Utils.train_eval_test import train_model, evaluate_model, print_metrics, test_model\n",
    "from models.model_pipeline import run_model_pipeline\n",
    "from data_Utils.Data_helper import load_data\n",
    "\n",
    "\n",
    "\n"
   ]
  },
  {
   "cell_type": "markdown",
   "id": "4ea8dc88",
   "metadata": {},
   "source": [
    "------------------------------------------------------------------------"
   ]
  },
  {
   "cell_type": "markdown",
   "id": "8b9d24dc",
   "metadata": {},
   "source": [
    "## 2. Load Dataset\n",
    "We will use the `load_data` function from `Data_helper.py` to load the dataset.\n"
   ]
  },
  {
   "cell_type": "code",
   "execution_count": 9,
   "id": "ed13eb66",
   "metadata": {},
   "outputs": [],
   "source": [
    "train_df = load_data(r\"G:\\ML mostafa saad\\slides\\my work\\13 Project 1 - Regression - Trip Duration Prediction\\data\\processed\\train_processed_filtered.csv\")\n",
    "val_df   = load_data(r\"G:\\ML mostafa saad\\slides\\my work\\13 Project 1 - Regression - Trip Duration Prediction\\data\\processed\\val_processed.csv\")\n",
    "test_df  = load_data(r\"G:\\ML mostafa saad\\slides\\my work\\13 Project 1 - Regression - Trip Duration Prediction\\data\\processed\\test_processed.csv\")"
   ]
  },
  {
   "cell_type": "markdown",
   "id": "30287bf3",
   "metadata": {},
   "source": [
    "------------------------------------------------------------------------"
   ]
  },
  {
   "cell_type": "markdown",
   "id": "33776eac",
   "metadata": {},
   "source": [
    "# Now let's run the base model (LR)"
   ]
  },
  {
   "cell_type": "code",
   "execution_count": 10,
   "id": "72b4d483",
   "metadata": {},
   "outputs": [
    {
     "name": "stdout",
     "output_type": "stream",
     "text": [
      "=== TRAIN & VAL METRICS FOR LR MODEL ===\n",
      "Train Metrics:\n",
      "  MAE: 0.2245\n",
      "  RMSE: 0.3478\n",
      "  R2: 0.7829\n",
      "\n",
      "Val Metrics:\n",
      "  MAE: 0.2257\n",
      "  RMSE: 0.3525\n",
      "  R2: 0.7796\n",
      "\n",
      "Test Metrics:\n",
      "  MAE: 0.2251\n",
      "  RMSE: 0.3504\n",
      "  R2: 0.7811\n",
      "\n"
     ]
    }
   ],
   "source": [
    "model = LinearRegression(fit_intercept=True)\n",
    "scaler_type = \"minmax\"\n",
    "target_col = \"log_trip_duration\"\n",
    "\n",
    "trained_model, scaler, metrics, y_train_pred, y_val_pred = run_model_pipeline(\n",
    "    train_df=train_df,\n",
    "    val_df=val_df,\n",
    "    target_col=target_col,\n",
    "    model=model,\n",
    "    scaler_type=scaler_type\n",
    ")\n",
    "# =================== PRINT METRICS ===================\n",
    "print(\"=== TRAIN & VAL METRICS FOR LR MODEL ===\")\n",
    "print_metrics(metrics) \n",
    "\n",
    "# =================== TEST ===================\n",
    "test_df, test_metrics = test_model(trained_model, scaler, test_df, target_col=target_col)\n",
    "print_metrics(test_metrics)"
   ]
  },
  {
   "cell_type": "markdown",
   "id": "46281540",
   "metadata": {},
   "source": [
    "### 🔎 Linear Regression - Observations\n",
    "- **Train R² = 0.7829, Val R² = 0.7796, Test R² = 0.7811**\n",
    "  → The model explains around **78% of the variance**, which is decent but not perfect.\n",
    "- **MAE ~0.225 and RMSE ~0.35** on all sets → the errors are consistent, meaning the model generalizes well.\n",
    "- Performance is stable (no big gap between Train/Val/Test), but the linear assumption limits accuracy.\n",
    "📌 LR works as a good baseline but struggles to capture non-linear relationships.\n"
   ]
  },
  {
   "cell_type": "markdown",
   "id": "1424d12c",
   "metadata": {},
   "source": [
    "as we saw the LR model sucsseded to get a very resonablr R2 for train , val , and even test \n",
    "that means that the was no overfitting and it generalizes well on unseen data"
   ]
  },
  {
   "cell_type": "markdown",
   "id": "1019d0e5",
   "metadata": {},
   "source": [
    "------------------------------------------------------------------------"
   ]
  },
  {
   "cell_type": "markdown",
   "id": "d97153d3",
   "metadata": {},
   "source": [
    "###  Ridge"
   ]
  },
  {
   "cell_type": "code",
   "execution_count": 11,
   "id": "5ad7a444",
   "metadata": {},
   "outputs": [
    {
     "name": "stdout",
     "output_type": "stream",
     "text": [
      "=== TRAIN & VAL METRICS FOR RIDGE MODEL ===\n",
      "Train Metrics:\n",
      "  MAE: 0.2257\n",
      "  RMSE: 0.3492\n",
      "  R2: 0.7811\n",
      "\n",
      "Val Metrics:\n",
      "  MAE: 0.2271\n",
      "  RMSE: 0.3544\n",
      "  R2: 0.7771\n",
      "\n",
      "=== TEST METRICS FOR RIDGE MODEL ===\n",
      "Test Metrics:\n",
      "  MAE: 0.2266\n",
      "  RMSE: 0.3525\n",
      "  R2: 0.7785\n",
      "\n"
     ]
    }
   ],
   "source": [
    "ridge_model = Ridge(alpha=1, fit_intercept=True)\n",
    "scaler_type = \"minmax\"\n",
    "target_col = \"log_trip_duration\"\n",
    "\n",
    "trained_model, scaler, metrics, y_train_pred, y_val_pred = run_model_pipeline(\n",
    "    train_df=train_df,\n",
    "    val_df=val_df,\n",
    "    target_col=target_col,\n",
    "    model=ridge_model,\n",
    "    scaler_type=scaler_type\n",
    ")\n",
    "\n",
    "# =================== PRINT METRICS ===================\n",
    "print(\"=== TRAIN & VAL METRICS FOR RIDGE MODEL ===\")\n",
    "print_metrics(metrics)\n",
    "\n",
    "# =================== TEST ===================\n",
    "test_df, test_metrics = test_model(trained_model, scaler, test_df, target_col=target_col)\n",
    "print(\"=== TEST METRICS FOR RIDGE MODEL ===\")\n",
    "print_metrics(test_metrics)\n"
   ]
  },
  {
   "cell_type": "markdown",
   "id": "d8c4c77c",
   "metadata": {},
   "source": [
    "### 🔎 Ridge Regression - Observations\n",
    "- **R² values (Train=0.7811, Val=0.7771, Test=0.7785)** → very close to LR.\n",
    "- Errors (MAE ~0.226, RMSE ~0.35) are almost the same as LR.\n",
    "- The small difference means **regularization didn’t help much** here, likely because the dataset doesn’t suffer from high variance or extreme multicollinearity.\n",
    "📌 Ridge gives stability but doesn’t significantly outperform LR in this dataset.\n"
   ]
  },
  {
   "cell_type": "markdown",
   "id": "190ed78a",
   "metadata": {},
   "source": [
    "------------------------------------------------------------------------"
   ]
  },
  {
   "cell_type": "markdown",
   "id": "f89750f0",
   "metadata": {},
   "source": [
    "###  K-Nearest Neighbors (KNN)\n"
   ]
  },
  {
   "cell_type": "code",
   "execution_count": 12,
   "id": "17702b74",
   "metadata": {},
   "outputs": [
    {
     "name": "stdout",
     "output_type": "stream",
     "text": [
      "=== TRAIN & VAL METRICS FOR KNN MODEL ===\n",
      "Train Metrics:\n",
      "  MAE: 0.0000\n",
      "  RMSE: 0.0000\n",
      "  R2: 1.0000\n",
      "\n",
      "Val Metrics:\n",
      "  MAE: 0.1135\n",
      "  RMSE: 0.2291\n",
      "  R2: 0.9069\n",
      "\n",
      "=== TEST METRICS FOR KNN MODEL ===\n",
      "Test Metrics:\n",
      "  MAE: 0.1138\n",
      "  RMSE: 0.2296\n",
      "  R2: 0.9060\n",
      "\n"
     ]
    }
   ],
   "source": [
    "knn_model = KNeighborsRegressor(\n",
    "    n_neighbors=5,\n",
    "    weights='distance',\n",
    "    p=2  # Euclidean\n",
    ")\n",
    "scaler_type = \"minmax\"  # very important for KNN\n",
    "target_col = \"log_trip_duration\"\n",
    "\n",
    "trained_model, scaler, metrics, y_train_pred, y_val_pred = run_model_pipeline(\n",
    "    train_df=train_df,\n",
    "    val_df=val_df,\n",
    "    target_col=target_col,\n",
    "    model=knn_model,\n",
    "    scaler_type=scaler_type\n",
    ")\n",
    "\n",
    "# =================== PRINT METRICS ===================\n",
    "print(\"=== TRAIN & VAL METRICS FOR KNN MODEL ===\")\n",
    "print_metrics(metrics)\n",
    "\n",
    "# =================== TEST ===================\n",
    "test_df, test_metrics = test_model(trained_model, scaler, test_df, target_col=target_col)\n",
    "print(\"=== TEST METRICS FOR KNN MODEL ===\")\n",
    "print_metrics(test_metrics)\n"
   ]
  },
  {
   "cell_type": "markdown",
   "id": "9e54aa8a",
   "metadata": {},
   "source": [
    "### 🔎 KNN - Observations\n",
    "- **Train R² = 1.0, MAE = 0.0, RMSE = 0.0** → model is **overfitting perfectly on train**.\n",
    "  - this happens because **KNN does not learn parameters** like Linear Regression or XGBoost.  \n",
    "- Instead, KNN **stores all training samples** and uses them directly during prediction.  \n",
    "- When predicting on a training sample, the closest neighbor is **the sample itself** → so the model outputs the exact value, resulting in **zero error on training**.\n",
    "- **Validation/Test R² ~0.906** → much better than LR/Ridge, but clearly worse than XGBoost.\n",
    "- **MAE ~0.113, RMSE ~0.229** → half the error of LR, which shows KNN captures non-linear patterns better.\n",
    "📌 KNN is powerful but prone to overfitting. Still, it generalizes decently on this dataset.\n"
   ]
  },
  {
   "cell_type": "markdown",
   "id": "8d74fd84",
   "metadata": {},
   "source": [
    "------------------------------------------------------------------------\n"
   ]
  },
  {
   "cell_type": "markdown",
   "id": "fe775f29",
   "metadata": {},
   "source": [
    "###  XGBoost\n"
   ]
  },
  {
   "cell_type": "code",
   "execution_count": 13,
   "id": "6f71c662",
   "metadata": {},
   "outputs": [
    {
     "name": "stdout",
     "output_type": "stream",
     "text": [
      "=== TRAIN & VAL METRICS FOR XGBOOST MODEL ===\n",
      "Train Metrics:\n",
      "  MAE: 0.0069\n",
      "  RMSE: 0.0290\n",
      "  R2: 0.9985\n",
      "\n",
      "Val Metrics:\n",
      "  MAE: 0.0078\n",
      "  RMSE: 0.0416\n",
      "  R2: 0.9969\n",
      "\n",
      "=== TEST METRICS FOR XGBOOST MODEL ===\n",
      "Test Metrics:\n",
      "  MAE: 0.0076\n",
      "  RMSE: 0.0390\n",
      "  R2: 0.9973\n",
      "\n"
     ]
    }
   ],
   "source": [
    "xgb_model = XGBRegressor(\n",
    "    n_estimators=500,     \n",
    "    learning_rate=0.05,\n",
    "    max_depth=6,           \n",
    "    subsample=0.8,         \n",
    "    colsample_bytree=0.8,  \n",
    "    random_state=42,\n",
    "    n_jobs=-1\n",
    ")\n",
    "\n",
    "scaler_type = \"minmax\"  \n",
    "target_col = \"log_trip_duration\"\n",
    "\n",
    "trained_model, scaler, metrics, y_train_pred, y_val_pred = run_model_pipeline(\n",
    "    train_df=train_df,\n",
    "    val_df=val_df,\n",
    "    target_col=target_col,\n",
    "    model=xgb_model,\n",
    "    scaler_type=scaler_type\n",
    ")\n",
    "\n",
    "# =================== PRINT METRICS ===================\n",
    "print(\"=== TRAIN & VAL METRICS FOR XGBOOST MODEL ===\")\n",
    "print_metrics(metrics)\n",
    "\n",
    "# =================== TEST ===================\n",
    "test_df, test_metrics = test_model(trained_model, scaler, test_df, target_col=target_col)\n",
    "print(\"=== TEST METRICS FOR XGBOOST MODEL ===\")\n",
    "print_metrics(test_metrics)\n"
   ]
  },
  {
   "cell_type": "markdown",
   "id": "5f9f37d7",
   "metadata": {},
   "source": [
    "### 🔎 XGBoost - Observations\n",
    "- **Train R² = 0.9985, Val R² = 0.9969, Test R² = 0.9973** → extremely high, explains almost all variance.\n",
    "- **MAE ~0.007, RMSE ~0.04** → way lower than other models.\n",
    "- Small gap between train and val shows **no major overfitting**, the model generalizes very well.\n",
    "📌 XGBoost clearly dominates, capturing complex non-linear relationships and minimizing errors.\n"
   ]
  },
  {
   "cell_type": "markdown",
   "id": "90240b21",
   "metadata": {},
   "source": [
    "------------------------------------------------------------------------"
   ]
  },
  {
   "cell_type": "markdown",
   "id": "06061e8f",
   "metadata": {},
   "source": [
    "## Visualise the results conclution"
   ]
  },
  {
   "cell_type": "code",
   "execution_count": 15,
   "id": "2ba86d34",
   "metadata": {},
   "outputs": [
    {
     "data": {
      "image/png": "[encoded data removed]",
      "text/plain": [
       "<Figure size 800x500 with 1 Axes>"
      ]
     },
     "metadata": {},
     "output_type": "display_data"
    },
    {
     "data": {
      "image/png": "[encoded data removed]",
      "text/plain": [
       "<Figure size 800x500 with 1 Axes>"
      ]
     },
     "metadata": {},
     "output_type": "display_data"
    }
   ],
   "source": [
    "results = {\n",
    "    \"Model\": [\"Linear Regression\", \"Ridge\", \"KNN\", \"XGBoost\"],\n",
    "    \"MAE\": [0.2257, 0.2271, 0.1135, 0.0078],\n",
    "    \"RMSE\": [0.3525, 0.3544, 0.2291, 0.0416],\n",
    "    \"R2\": [0.7796, 0.7771, 0.9069, 0.9969]\n",
    "}\n",
    "\n",
    "results_df = pd.DataFrame(results)\n",
    "\n",
    "# Bar chart comparison\n",
    "results_df.set_index(\"Model\")[[\"MAE\", \"RMSE\"]].plot(kind=\"bar\", figsize=(8,5))\n",
    "plt.title(\"Model Comparison - Errors (Lower is Better)\")\n",
    "plt.ylabel(\"Error\")\n",
    "plt.show()\n",
    "\n",
    "results_df.set_index(\"Model\")[\"R2\"].plot(kind=\"bar\", figsize=(8,5), color=\"green\")\n",
    "plt.title(\"Model Comparison - R² (Higher is Better)\")\n",
    "plt.ylabel(\"R² Score\")\n",
    "plt.show()"
   ]
  },
  {
   "cell_type": "markdown",
   "id": "83138529",
   "metadata": {},
   "source": [
    "## 🎯 Conclusion\n",
    "\n",
    "- **Linear Regression (R² ≈ 0.78)**  \n",
    "  A good baseline model. It captures linear trends but struggles with non-linear patterns in the data. Errors are consistent across train/val/test, showing good generalization but limited accuracy.\n",
    "\n",
    "- **Ridge Regression (R² ≈ 0.77)**  \n",
    "  Very similar to Linear Regression. Regularization did not bring significant improvements because the dataset likely does not suffer from high variance or multicollinearity.\n",
    "\n",
    "- **KNN (R² ≈ 0.90)**  \n",
    "  Performs much better than Linear/Ridge on validation/test. However, it **overfits perfectly on training data (R² = 1.0)** since it simply memorizes the training set. Still, it generalizes decently with much lower errors compared to LR/Ridge.\n",
    "\n",
    "- **XGBoost (R² ≈ 0.997)**  \n",
    "  By far the best model. It captures complex non-linear relationships with very low error. The small gap between training and validation shows it generalizes extremely well without major overfitting.\n",
    "\n",
    "---\n",
    "\n",
    "📌 **Final Notes:**\n",
    "- **XGBoost is the most reliable choice** for this dataset.  \n",
    "- **KNN** is strong but less efficient and prone to overfitting.  \n",
    "- **Linear & Ridge** are useful baselines but clearly underperform compared to non-linear models.  \n"
   ]
  }
 ],
 "metadata": {
  "kernelspec": {
   "display_name": ".venv",
   "language": "python",
   "name": "python3"
  },
  "language_info": {
   "codemirror_mode": {
    "name": "ipython",
    "version": 3
   },
   "file_extension": ".py",
   "mimetype": "text/x-python",
   "name": "python",
   "nbconvert_exporter": "python",
   "pygments_lexer": "ipython3",
   "version": "3.12.8"
  }
 },
 "nbformat": 4,
 "nbformat_minor": 5
}
