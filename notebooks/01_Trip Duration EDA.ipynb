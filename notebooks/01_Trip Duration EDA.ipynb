{
  "cells": [
    {
      "cell_type": "markdown",
      "metadata": {},
      "source": [
        "# 01 – EDA: Trip Duration Prediction\n",
        "\n",
        "**هدف النوتبوك**: أفهم البيانات كويس قبل أي نمذجة.\n",
        "\n",
        "## أسئلة مبدئية:\n",
        "- شكل توزيع `trip_duration` عامل إزاي؟ هل في قيم شاذة جدًا؟\n",
        "- هل في قيم ناقصة/أنواع أعمدة غير متوقعة؟\n",
        "- نطاق الإحداثيات (lat/lon) معقول؟\n",
        "- العلاقة المبدئية بين المسافة ومدة الرحلة؟\n",
        "- تأثير الوقت (ساعة/يوم/شهر)؟\n",
        "\n",
        "## قائمة المهام (TODO):\n",
        "- [ ] تحميل عينة من البيانات من `data/raw/`\n",
        "- [ ] فحوصات سلامة سريعة\n",
        "- [ ] رسوم/جداول توضيحية قصيرة\n",
        "- [ ] استنتاجات بنقاط بسيطة أسفل كل جزء\n"
      ]
    },
    {
      "cell_type": "code",
      "execution_count": null,
      "metadata": {},
      "outputs": [],
      "source": [
        "# ملاحظة: اكتب كود التحميل والتحقق هنا لاحقًا.\n",
        "# التزم بخطوات الأسئلة فوق – خطوة خطوة.\n"
      ]
    }
  ],
  "metadata": {
    "kernelspec": {
      "display_name": "Python 3",
      "language": "python",
      "name": "python3"
    },
    "language_info": {
      "name": "python",
      "version": "3.x"
    }
  },
  "nbformat": 4,
  "nbformat_minor": 5
}